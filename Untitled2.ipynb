{
  "nbformat": 4,
  "nbformat_minor": 0,
  "metadata": {
    "colab": {
      "provenance": [],
      "authorship_tag": "ABX9TyMuj4YlFIxx7H/QheOISFfp",
      "include_colab_link": true
    },
    "kernelspec": {
      "name": "python3",
      "display_name": "Python 3"
    },
    "language_info": {
      "name": "python"
    }
  },
  "cells": [
    {
      "cell_type": "markdown",
      "metadata": {
        "id": "view-in-github",
        "colab_type": "text"
      },
      "source": [
        "<a href=\"https://colab.research.google.com/github/yashchauh/RC4-Cryptography-Algorithm-using-Python/blob/main/Untitled2.ipynb\" target=\"_parent\"><img src=\"https://colab.research.google.com/assets/colab-badge.svg\" alt=\"Open In Colab\"/></a>"
      ]
    },
    {
      "cell_type": "code",
      "source": [
        "import random\n",
        "\n",
        "def Key_Scheduling(key):\n",
        "    key_length = len(key)\n",
        "    if key_length > 256:\n",
        "        raise ValueError(\"Key too long (max length = 256)\")\n",
        "    S = list(range(256))\n",
        "    j = 0\n",
        "    for i in range(256):\n",
        "        j = (j + S[i] + key[i % key_length]) % 256\n",
        "        S[i], S[j] = S[j], S[i]\n",
        "    return S\n",
        "\n",
        "def pad_key(key):\n",
        "    padded_key = bytearray(256)\n",
        "    key_len = len(key)\n",
        "    if key_len > 256:\n",
        "        raise ValueError(\"Key too long (max length = 256)\")\n",
        "    padded_key[:key_len] = bytearray(key.encode())\n",
        "    padded_key[key_len:] = bytearray(256 - key_len)\n",
        "    return padded_key\n",
        "\n",
        "def stream_generation(S):\n",
        "    i = 0\n",
        "    j = 0\n",
        "    while True:\n",
        "        i = (i + 1) % 256\n",
        "        j = (j + S[i]) % 256\n",
        "        S[i], S[j] = S[j], S[i]\n",
        "        K = S[(S[i] + S[j]) % 256]\n",
        "        yield K\n",
        "\n",
        "def encrypt(plaintext, key):\n",
        "    key = pad_key(key)\n",
        "    S = Key_Scheduling(key)\n",
        "    keystream = stream_generation(S)\n",
        "    encrypted_text = \"\"\n",
        "    for c in plaintext:\n",
        "        if c.isalpha():\n",
        "            if c.islower():\n",
        "                c = chr((ord(c) + next(keystream)) % 26 + 97)\n",
        "            elif c.isupper():\n",
        "                c = chr((ord(c) + next(keystream)) % 26 + 65)\n",
        "        elif c.isnumeric():\n",
        "            c = str((int(c) + next(keystream)) % 10)\n",
        "        encrypted_text += c\n",
        "    return encrypted_text\n",
        "\n",
        "def decrypt(ciphertext, key):\n",
        "    key = pad_key(key)\n",
        "    S = Key_Scheduling(key)\n",
        "    keystream = stream_generation(S)\n",
        "    decrypted_text = \"\"\n",
        "    for c in ciphertext:\n",
        "        if c.isalpha():\n",
        "            if c.islower():\n",
        "                c = chr((ord(c) - next(keystream)) % 26 + 97)\n",
        "            elif c.isupper():\n",
        "                c = chr((ord(c) - next(keystream)) % 26 + 65)\n",
        "        elif c.isnumeric():\n",
        "            c = str((int(c) - next(keystream)) % 10)\n",
        "        decrypted_text += c\n",
        "    return decrypted_text\n",
        "\n",
        "ed = input('Enter 1 for Encrypt, or 2 for Decrypt: ').upper()\n",
        "if ed == '1':\n",
        "    text = input(\"Enter a plaintext: \")\n",
        "    key = input(\"Enter the key: \")\n",
        "    encrypted_text = encrypt(text, key)\n",
        "    print(\"Cipher text is:\", encrypted_text)\n",
        "elif ed == '2':\n",
        "    TEXT = input(\"Enter cipher text: \")\n",
        "    KEY = input(\"Enter key: \")\n",
        "    decrypted_text = decrypt(TEXT, KEY)\n",
        "    print(\"Decrypted message:\", decrypted_text)\n",
        "else:\n",
        "    print('Error in input - try again.')\n"
      ],
      "metadata": {
        "colab": {
          "base_uri": "https://localhost:8080/"
        },
        "id": "ZpcvMFAmwVV8",
        "outputId": "c8685a7a-9bbd-49fb-d4de-a5b4352871e4"
      },
      "execution_count": 4,
      "outputs": [
        {
          "output_type": "stream",
          "name": "stdout",
          "text": [
            "Enter 1 for Encrypt, or 2 for Decrypt: 1\n",
            "Enter a plaintext: YASH\n",
            "Enter the key: ARK\n",
            "Cipher text is: KHVQ\n"
          ]
        }
      ]
    }
  ]
}